{
 "cells": [
  {
   "cell_type": "code",
   "execution_count": 1,
   "metadata": {},
   "outputs": [],
   "source": [
    "import numpy as np\n",
    "import pandas as pd\n",
    "from pandas import Series, DataFrame\n",
    "from numpy.random import randn"
   ]
  },
  {
   "cell_type": "code",
   "execution_count": 2,
   "metadata": {},
   "outputs": [
    {
     "data": {
      "text/plain": [
       "a    1\n",
       "b    2\n",
       "c    3\n",
       "dtype: int64"
      ]
     },
     "execution_count": 2,
     "metadata": {},
     "output_type": "execute_result"
    }
   ],
   "source": [
    "ser = Series([1,2,3], index=['a','b','c'])\n",
    "ser"
   ]
  },
  {
   "cell_type": "code",
   "execution_count": 3,
   "metadata": {},
   "outputs": [
    {
     "data": {
      "text/plain": [
       "a    1.0\n",
       "b    2.0\n",
       "c    3.0\n",
       "d    NaN\n",
       "e    NaN\n",
       "dtype: float64"
      ]
     },
     "execution_count": 3,
     "metadata": {},
     "output_type": "execute_result"
    }
   ],
   "source": [
    "ser1 = ser.reindex(['a','b','c','d','e'])\n",
    "ser1"
   ]
  },
  {
   "cell_type": "code",
   "execution_count": 5,
   "metadata": {},
   "outputs": [
    {
     "data": {
      "text/plain": [
       "a    1.0\n",
       "b    2.0\n",
       "c    3.0\n",
       "d    NaN\n",
       "e    NaN\n",
       "f    0.0\n",
       "dtype: float64"
      ]
     },
     "execution_count": 5,
     "metadata": {},
     "output_type": "execute_result"
    }
   ],
   "source": [
    "ser1.reindex(['a','b','c','d','e','f'], fill_value=0)"
   ]
  },
  {
   "cell_type": "code",
   "execution_count": 6,
   "metadata": {},
   "outputs": [
    {
     "data": {
      "text/plain": [
       "0      Malang\n",
       "5     Jakarta\n",
       "10    Bandung\n",
       "dtype: object"
      ]
     },
     "execution_count": 6,
     "metadata": {},
     "output_type": "execute_result"
    }
   ],
   "source": [
    "ser2 = Series(['Malang','Jakarta','Bandung'], index=[0,5,10])\n",
    "ser2"
   ]
  },
  {
   "cell_type": "code",
   "execution_count": 8,
   "metadata": {},
   "outputs": [
    {
     "data": {
      "text/plain": [
       "range(0, 10)"
      ]
     },
     "execution_count": 8,
     "metadata": {},
     "output_type": "execute_result"
    }
   ],
   "source": [
    "ranger = range(10)\n",
    "ranger"
   ]
  },
  {
   "cell_type": "code",
   "execution_count": 10,
   "metadata": {},
   "outputs": [
    {
     "data": {
      "text/plain": [
       "0     Malang\n",
       "1     Malang\n",
       "2     Malang\n",
       "3     Malang\n",
       "4     Malang\n",
       "5    Jakarta\n",
       "6    Jakarta\n",
       "7    Jakarta\n",
       "8    Jakarta\n",
       "9    Jakarta\n",
       "dtype: object"
      ]
     },
     "execution_count": 10,
     "metadata": {},
     "output_type": "execute_result"
    }
   ],
   "source": [
    "ser2.reindex(ranger,method='ffill')"
   ]
  },
  {
   "cell_type": "code",
   "execution_count": 11,
   "metadata": {},
   "outputs": [
    {
     "data": {
      "text/html": [
       "<div>\n",
       "<style scoped>\n",
       "    .dataframe tbody tr th:only-of-type {\n",
       "        vertical-align: middle;\n",
       "    }\n",
       "\n",
       "    .dataframe tbody tr th {\n",
       "        vertical-align: top;\n",
       "    }\n",
       "\n",
       "    .dataframe thead th {\n",
       "        text-align: right;\n",
       "    }\n",
       "</style>\n",
       "<table border=\"1\" class=\"dataframe\">\n",
       "  <thead>\n",
       "    <tr style=\"text-align: right;\">\n",
       "      <th></th>\n",
       "      <th>colA</th>\n",
       "      <th>colB</th>\n",
       "      <th>colC</th>\n",
       "      <th>colD</th>\n",
       "      <th>colE</th>\n",
       "    </tr>\n",
       "  </thead>\n",
       "  <tbody>\n",
       "    <tr>\n",
       "      <th>a</th>\n",
       "      <td>1.351423</td>\n",
       "      <td>0.213913</td>\n",
       "      <td>-0.142689</td>\n",
       "      <td>0.383157</td>\n",
       "      <td>-0.377100</td>\n",
       "    </tr>\n",
       "    <tr>\n",
       "      <th>b</th>\n",
       "      <td>0.884316</td>\n",
       "      <td>-1.599569</td>\n",
       "      <td>0.284798</td>\n",
       "      <td>-0.283311</td>\n",
       "      <td>0.986762</td>\n",
       "    </tr>\n",
       "    <tr>\n",
       "      <th>c</th>\n",
       "      <td>-0.420411</td>\n",
       "      <td>-1.381533</td>\n",
       "      <td>-1.757554</td>\n",
       "      <td>0.444772</td>\n",
       "      <td>0.755333</td>\n",
       "    </tr>\n",
       "    <tr>\n",
       "      <th>d</th>\n",
       "      <td>-0.300555</td>\n",
       "      <td>0.940328</td>\n",
       "      <td>-2.704968</td>\n",
       "      <td>-0.387090</td>\n",
       "      <td>-2.296522</td>\n",
       "    </tr>\n",
       "    <tr>\n",
       "      <th>e</th>\n",
       "      <td>-0.992522</td>\n",
       "      <td>0.434188</td>\n",
       "      <td>0.026099</td>\n",
       "      <td>0.653107</td>\n",
       "      <td>0.087570</td>\n",
       "    </tr>\n",
       "  </tbody>\n",
       "</table>\n",
       "</div>"
      ],
      "text/plain": [
       "       colA      colB      colC      colD      colE\n",
       "a  1.351423  0.213913 -0.142689  0.383157 -0.377100\n",
       "b  0.884316 -1.599569  0.284798 -0.283311  0.986762\n",
       "c -0.420411 -1.381533 -1.757554  0.444772  0.755333\n",
       "d -0.300555  0.940328 -2.704968 -0.387090 -2.296522\n",
       "e -0.992522  0.434188  0.026099  0.653107  0.087570"
      ]
     },
     "execution_count": 11,
     "metadata": {},
     "output_type": "execute_result"
    }
   ],
   "source": [
    "dframe = DataFrame(randn(25).reshape(5,5),index=['a','b','c','d','e'],columns=['colA','colB','colC','colD','colE'])\n",
    "dframe"
   ]
  },
  {
   "cell_type": "code",
   "execution_count": 12,
   "metadata": {},
   "outputs": [
    {
     "data": {
      "text/html": [
       "<div>\n",
       "<style scoped>\n",
       "    .dataframe tbody tr th:only-of-type {\n",
       "        vertical-align: middle;\n",
       "    }\n",
       "\n",
       "    .dataframe tbody tr th {\n",
       "        vertical-align: top;\n",
       "    }\n",
       "\n",
       "    .dataframe thead th {\n",
       "        text-align: right;\n",
       "    }\n",
       "</style>\n",
       "<table border=\"1\" class=\"dataframe\">\n",
       "  <thead>\n",
       "    <tr style=\"text-align: right;\">\n",
       "      <th></th>\n",
       "      <th>colA</th>\n",
       "      <th>colB</th>\n",
       "      <th>colC</th>\n",
       "      <th>colD</th>\n",
       "      <th>colE</th>\n",
       "    </tr>\n",
       "  </thead>\n",
       "  <tbody>\n",
       "    <tr>\n",
       "      <th>a</th>\n",
       "      <td>1.351423</td>\n",
       "      <td>0.213913</td>\n",
       "      <td>-0.142689</td>\n",
       "      <td>0.383157</td>\n",
       "      <td>-0.377100</td>\n",
       "    </tr>\n",
       "    <tr>\n",
       "      <th>b</th>\n",
       "      <td>0.884316</td>\n",
       "      <td>-1.599569</td>\n",
       "      <td>0.284798</td>\n",
       "      <td>-0.283311</td>\n",
       "      <td>0.986762</td>\n",
       "    </tr>\n",
       "    <tr>\n",
       "      <th>c</th>\n",
       "      <td>-0.420411</td>\n",
       "      <td>-1.381533</td>\n",
       "      <td>-1.757554</td>\n",
       "      <td>0.444772</td>\n",
       "      <td>0.755333</td>\n",
       "    </tr>\n",
       "    <tr>\n",
       "      <th>d</th>\n",
       "      <td>-0.300555</td>\n",
       "      <td>0.940328</td>\n",
       "      <td>-2.704968</td>\n",
       "      <td>-0.387090</td>\n",
       "      <td>-2.296522</td>\n",
       "    </tr>\n",
       "    <tr>\n",
       "      <th>e</th>\n",
       "      <td>-0.992522</td>\n",
       "      <td>0.434188</td>\n",
       "      <td>0.026099</td>\n",
       "      <td>0.653107</td>\n",
       "      <td>0.087570</td>\n",
       "    </tr>\n",
       "    <tr>\n",
       "      <th>f</th>\n",
       "      <td>NaN</td>\n",
       "      <td>NaN</td>\n",
       "      <td>NaN</td>\n",
       "      <td>NaN</td>\n",
       "      <td>NaN</td>\n",
       "    </tr>\n",
       "  </tbody>\n",
       "</table>\n",
       "</div>"
      ],
      "text/plain": [
       "       colA      colB      colC      colD      colE\n",
       "a  1.351423  0.213913 -0.142689  0.383157 -0.377100\n",
       "b  0.884316 -1.599569  0.284798 -0.283311  0.986762\n",
       "c -0.420411 -1.381533 -1.757554  0.444772  0.755333\n",
       "d -0.300555  0.940328 -2.704968 -0.387090 -2.296522\n",
       "e -0.992522  0.434188  0.026099  0.653107  0.087570\n",
       "f       NaN       NaN       NaN       NaN       NaN"
      ]
     },
     "execution_count": 12,
     "metadata": {},
     "output_type": "execute_result"
    }
   ],
   "source": [
    "dframe2 = dframe.reindex(['a','b','c','d','e','f'])\n",
    "dframe2"
   ]
  },
  {
   "cell_type": "code",
   "execution_count": 13,
   "metadata": {},
   "outputs": [],
   "source": [
    "new_columns = ['colA','colB','colC','colD','colE','colF']"
   ]
  },
  {
   "cell_type": "code",
   "execution_count": 14,
   "metadata": {},
   "outputs": [
    {
     "data": {
      "text/html": [
       "<div>\n",
       "<style scoped>\n",
       "    .dataframe tbody tr th:only-of-type {\n",
       "        vertical-align: middle;\n",
       "    }\n",
       "\n",
       "    .dataframe tbody tr th {\n",
       "        vertical-align: top;\n",
       "    }\n",
       "\n",
       "    .dataframe thead th {\n",
       "        text-align: right;\n",
       "    }\n",
       "</style>\n",
       "<table border=\"1\" class=\"dataframe\">\n",
       "  <thead>\n",
       "    <tr style=\"text-align: right;\">\n",
       "      <th></th>\n",
       "      <th>colA</th>\n",
       "      <th>colB</th>\n",
       "      <th>colC</th>\n",
       "      <th>colD</th>\n",
       "      <th>colE</th>\n",
       "      <th>colF</th>\n",
       "    </tr>\n",
       "  </thead>\n",
       "  <tbody>\n",
       "    <tr>\n",
       "      <th>a</th>\n",
       "      <td>1.351423</td>\n",
       "      <td>0.213913</td>\n",
       "      <td>-0.142689</td>\n",
       "      <td>0.383157</td>\n",
       "      <td>-0.377100</td>\n",
       "      <td>NaN</td>\n",
       "    </tr>\n",
       "    <tr>\n",
       "      <th>b</th>\n",
       "      <td>0.884316</td>\n",
       "      <td>-1.599569</td>\n",
       "      <td>0.284798</td>\n",
       "      <td>-0.283311</td>\n",
       "      <td>0.986762</td>\n",
       "      <td>NaN</td>\n",
       "    </tr>\n",
       "    <tr>\n",
       "      <th>c</th>\n",
       "      <td>-0.420411</td>\n",
       "      <td>-1.381533</td>\n",
       "      <td>-1.757554</td>\n",
       "      <td>0.444772</td>\n",
       "      <td>0.755333</td>\n",
       "      <td>NaN</td>\n",
       "    </tr>\n",
       "    <tr>\n",
       "      <th>d</th>\n",
       "      <td>-0.300555</td>\n",
       "      <td>0.940328</td>\n",
       "      <td>-2.704968</td>\n",
       "      <td>-0.387090</td>\n",
       "      <td>-2.296522</td>\n",
       "      <td>NaN</td>\n",
       "    </tr>\n",
       "    <tr>\n",
       "      <th>e</th>\n",
       "      <td>-0.992522</td>\n",
       "      <td>0.434188</td>\n",
       "      <td>0.026099</td>\n",
       "      <td>0.653107</td>\n",
       "      <td>0.087570</td>\n",
       "      <td>NaN</td>\n",
       "    </tr>\n",
       "    <tr>\n",
       "      <th>f</th>\n",
       "      <td>NaN</td>\n",
       "      <td>NaN</td>\n",
       "      <td>NaN</td>\n",
       "      <td>NaN</td>\n",
       "      <td>NaN</td>\n",
       "      <td>NaN</td>\n",
       "    </tr>\n",
       "  </tbody>\n",
       "</table>\n",
       "</div>"
      ],
      "text/plain": [
       "       colA      colB      colC      colD      colE  colF\n",
       "a  1.351423  0.213913 -0.142689  0.383157 -0.377100   NaN\n",
       "b  0.884316 -1.599569  0.284798 -0.283311  0.986762   NaN\n",
       "c -0.420411 -1.381533 -1.757554  0.444772  0.755333   NaN\n",
       "d -0.300555  0.940328 -2.704968 -0.387090 -2.296522   NaN\n",
       "e -0.992522  0.434188  0.026099  0.653107  0.087570   NaN\n",
       "f       NaN       NaN       NaN       NaN       NaN   NaN"
      ]
     },
     "execution_count": 14,
     "metadata": {},
     "output_type": "execute_result"
    }
   ],
   "source": [
    "dframe2.reindex(columns=new_columns)"
   ]
  }
 ],
 "metadata": {
  "interpreter": {
   "hash": "aee8b7b246df8f9039afb4144a1f6fd8d2ca17a180786b69acc140d282b71a49"
  },
  "kernelspec": {
   "display_name": "Python 3.9.5 64-bit",
   "language": "python",
   "name": "python3"
  },
  "language_info": {
   "codemirror_mode": {
    "name": "ipython",
    "version": 3
   },
   "file_extension": ".py",
   "mimetype": "text/x-python",
   "name": "python",
   "nbconvert_exporter": "python",
   "pygments_lexer": "ipython3",
   "version": "3.9.5"
  },
  "orig_nbformat": 4
 },
 "nbformat": 4,
 "nbformat_minor": 2
}
